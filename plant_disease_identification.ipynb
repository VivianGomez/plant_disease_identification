{
 "cells": [
  {
   "cell_type": "markdown",
   "metadata": {
    "colab_type": "text",
    "id": "yTy0LcQQjQfz"
   },
   "source": [
    "# **Proyecto Final: (*Identificación de enfermedades en plantas a partir de imágenes*)**\n",
    "\n",
    "## **Autores**: \n",
    "- Vivian Natalia Gómez Cubillos \n",
    "- Kelly Katherine Penaranda Rivera\n",
    "\n",
    "# **Contenido**\n",
    "1. [**Abstract**](#id1)\n",
    "2. [**Introducción**](#id2)\n",
    "3. [**Estado del arte**](#id3)\n",
    "4. [**Materiales y Métodos**](#id4)\n",
    "5. [**Resultados**](#id5)\n",
    "6. [**Conclusión y discusión**](#id6)\n",
    "7. [**Bibliografía**](#id7)\n"
   ]
  },
  {
   "cell_type": "markdown",
   "metadata": {},
   "source": [
    "## **1. Abstract**<a name=\"id1\"></a>\n",
    "Cuerpo del abstract"
   ]
  },
  {
   "cell_type": "markdown",
   "metadata": {},
   "source": [
    "## **2. Introducción**<a name=\"id2\"></a>"
   ]
  },
  {
   "cell_type": "markdown",
   "metadata": {},
   "source": [
    "Cuerpo de la introducción"
   ]
  },
  {
   "cell_type": "markdown",
   "metadata": {},
   "source": [
    "## **3. Estado del arte**<a name=\"id3\"></a>"
   ]
  },
  {
   "cell_type": "markdown",
   "metadata": {},
   "source": [
    "Estado del arte"
   ]
  },
  {
   "cell_type": "markdown",
   "metadata": {},
   "source": [
    "## **4. Materiales y Métodos**<a name=\"id4\"></a>"
   ]
  },
  {
   "cell_type": "code",
   "execution_count": 14,
   "metadata": {},
   "outputs": [],
   "source": [
    "import os\n",
    "import requests\n",
    "import glob\n",
    "from skimage import io\n",
    "import matplotlib.pyplot as plt\n",
    "import numpy\n",
    "from skimage import color\n",
    "from os.path import isfile, join\n",
    "import re"
   ]
  },
  {
   "cell_type": "code",
   "execution_count": 160,
   "metadata": {},
   "outputs": [],
   "source": [
    "def get_count_class(directory):\n",
    "    if not os.path.exists(directory):\n",
    "        return 0\n",
    "    count=0\n",
    "    for current_path,dirs,files in os.walk(directory):\n",
    "        for file in files:\n",
    "            count+= 1\n",
    "            #print(file)\n",
    "    return count"
   ]
  },
  {
   "cell_type": "code",
   "execution_count": 168,
   "metadata": {},
   "outputs": [],
   "source": [
    "def get_count_classes(directory):\n",
    "    if not os.path.exists(directory):\n",
    "        return 0\n",
    "    count=0\n",
    "    for current_path,dirs,files in os.walk(directory):\n",
    "        for dr in dirs:\n",
    "            count+= 1\n",
    "            print(dr+\": \", str(get_count_class(current_path+dr+\"/\")))\n",
    "    print('-------------------------------------------------------')\n",
    "    return count"
   ]
  },
  {
   "cell_type": "code",
   "execution_count": 172,
   "metadata": {},
   "outputs": [
    {
     "name": "stdout",
     "output_type": "stream",
     "text": [
      "CLASSES:\n",
      "-------------------------------------------------------\n",
      "Apple___Apple_scab:  630\n",
      "Apple___Black_rot:  621\n",
      "Apple___Cedar_apple_rust:  275\n",
      "Apple___healthy:  1645\n",
      "Blueberry___healthy:  1502\n",
      "Cherry_(including_sour)___healthy:  854\n",
      "Cherry_(including_sour)___Powdery_mildew:  1052\n",
      "Corn_(maize)___Cercospora_leaf_spot Gray_leaf_spot:  513\n",
      "Corn_(maize)___Common_rust_:  1192\n",
      "Corn_(maize)___healthy:  1162\n",
      "Corn_(maize)___Northern_Leaf_Blight:  985\n",
      "Grape___Black_rot:  1180\n",
      "Grape___Esca_(Black_Measles):  1383\n",
      "Grape___healthy:  423\n",
      "Grape___Leaf_blight_(Isariopsis_Leaf_Spot):  1076\n",
      "Orange___Haunglongbing_(Citrus_greening):  5507\n",
      "Peach___Bacterial_spot:  2297\n",
      "Peach___healthy:  360\n",
      "Pepper,_bell___Bacterial_spot:  997\n",
      "Pepper,_bell___healthy:  1478\n",
      "Potato___Early_blight:  1000\n",
      "Potato___healthy:  152\n",
      "Potato___Late_blight:  1000\n",
      "Raspberry___healthy:  371\n",
      "Soybean___healthy:  5090\n",
      "Squash___Powdery_mildew:  1835\n",
      "Strawberry___healthy:  456\n",
      "Strawberry___Leaf_scorch:  1109\n",
      "Tomato___Bacterial_spot:  2127\n",
      "Tomato___Early_blight:  1000\n",
      "Tomato___healthy:  1591\n",
      "Tomato___Late_blight:  1909\n",
      "Tomato___Leaf_Mold:  952\n",
      "Tomato___Septoria_leaf_spot:  1771\n",
      "Tomato___Spider_mites Two-spotted_spider_mite:  1676\n",
      "Tomato___Target_Spot:  1404\n",
      "Tomato___Tomato_mosaic_virus:  373\n",
      "Tomato___Tomato_Yellow_Leaf_Curl_Virus:  5357\n",
      "-------------------------------------------------------\n",
      "TOTAL NUMBER OF CLASSES:  38\n",
      "-------------------------------------------------------\n"
     ]
    }
   ],
   "source": [
    "path = './input/plantvillage-dataset/color/' \n",
    "print('CLASSES:')\n",
    "print('-------------------------------------------------------')\n",
    "print('TOTAL NUMBER OF CLASSES: ', str(get_count_classes(path)))\n",
    "print('-------------------------------------------------------')"
   ]
  },
  {
   "cell_type": "markdown",
   "metadata": {
    "colab_type": "text",
    "id": "XCXifLhgjtmE"
   },
   "source": [
    "## **5. Resultados**<a name=\"id5\"></a>\n",
    "Res"
   ]
  },
  {
   "cell_type": "markdown",
   "metadata": {},
   "source": [
    "## **6. Conclusión y discusión**<a name=\"id6\"></a>\n",
    "\n",
    "Por medio de todos los casos de prueba realizados con las imágenes seleccionadas y con los resultados obtenidos en cada uno de ellos, pudimos resaltar una serie de observaciones y conclusiones:\n",
    "\n",
    "### Observaciones:\n",
    "\n",
    "Obs\n",
    "\n",
    "### Conclusiones:\n",
    "\n",
    "En conclusión, "
   ]
  },
  {
   "cell_type": "markdown",
   "metadata": {},
   "source": [
    "## **7. Bibliografía**<a name=\"id7\"></a>\n",
    "Bibliografía"
   ]
  },
  {
   "cell_type": "code",
   "execution_count": null,
   "metadata": {},
   "outputs": [],
   "source": []
  }
 ],
 "metadata": {
  "colab": {
   "collapsed_sections": [],
   "name": "Taller 3.ipynb",
   "provenance": []
  },
  "kernelspec": {
   "display_name": "venvpd",
   "language": "python",
   "name": "venvpd"
  },
  "language_info": {
   "codemirror_mode": {
    "name": "ipython",
    "version": 3
   },
   "file_extension": ".py",
   "mimetype": "text/x-python",
   "name": "python",
   "nbconvert_exporter": "python",
   "pygments_lexer": "ipython3",
   "version": "3.7.5"
  }
 },
 "nbformat": 4,
 "nbformat_minor": 1
}
