{
 "cells": [
  {
   "cell_type": "markdown",
   "metadata": {
    "colab_type": "text",
    "id": "yTy0LcQQjQfz"
   },
   "source": [
    "# **Proyecto Final: (*Identificación de enfermedades en plantas a partir de imágenes*)**\n",
    "\n",
    "## **Autores**: \n",
    "- Vivian Natalia Gómez Cubillos \n",
    "- Kelly Katherine Penaranda Rivera\n",
    "\n",
    "# **Contenido**\n",
    "1. [**Abstract**](#id1)\n",
    "2. [**Introducción**](#id2)\n",
    "3. [**Estado del arte**](#id3)\n",
    "4. [**Materiales y Métodos**](#id4)\n",
    "5. [**Resultados**](#id5)\n",
    "6. [**Conclusión y discusión**](#id6)\n",
    "7. [**Bibliografía**](#id7)\n"
   ]
  },
  {
   "cell_type": "markdown",
   "metadata": {},
   "source": [
    "## **1. Abstract**<a name=\"id1\"></a>\n",
    "Cuerpo del abstract"
   ]
  },
  {
   "cell_type": "markdown",
   "metadata": {},
   "source": [
    "## **2. Introducción**<a name=\"id2\"></a>"
   ]
  },
  {
   "cell_type": "markdown",
   "metadata": {},
   "source": [
    "Cuerpo de la introducción"
   ]
  },
  {
   "cell_type": "markdown",
   "metadata": {},
   "source": [
    "## **3. Estado del arte**<a name=\"id3\"></a>"
   ]
  },
  {
   "cell_type": "markdown",
   "metadata": {},
   "source": [
    "Estado del arte"
   ]
  },
  {
   "cell_type": "markdown",
   "metadata": {},
   "source": [
    "## **4. Materiales y Métodos**<a name=\"id4\"></a>"
   ]
  },
  {
   "cell_type": "code",
   "execution_count": 16,
   "metadata": {},
   "outputs": [],
   "source": [
    "import utils.visualization as vis\n",
    "import requests\n",
    "from skimage import io\n",
    "import matplotlib.pyplot as plt\n",
    "import numpy\n",
    "from skimage import color"
   ]
  },
  {
   "cell_type": "code",
   "execution_count": 9,
   "metadata": {},
   "outputs": [],
   "source": [
    "#código?"
   ]
  },
  {
   "cell_type": "markdown",
   "metadata": {
    "colab_type": "text",
    "id": "XCXifLhgjtmE"
   },
   "source": [
    "## **5. Resultados**<a name=\"id5\"></a>\n",
    "Res"
   ]
  },
  {
   "cell_type": "markdown",
   "metadata": {},
   "source": [
    "## **6. Conclusión y discusión**<a name=\"id6\"></a>\n",
    "\n",
    "Por medio de todos los casos de prueba realizados con las imágenes seleccionadas y con los resultados obtenidos en cada uno de ellos, pudimos resaltar una serie de observaciones y conclusiones:\n",
    "\n",
    "### Observaciones:\n",
    "\n",
    "Obs\n",
    "\n",
    "### Conclusiones:\n",
    "\n",
    "En conclusión, "
   ]
  },
  {
   "cell_type": "markdown",
   "metadata": {},
   "source": [
    "![ ](https://raw.githubusercontent.com/VivianGomez/t3_segmentation/master/utils/images/umbralsimpleconjeo.PNG)"
   ]
  },
  {
   "cell_type": "markdown",
   "metadata": {},
   "source": [
    "## **7. Bibliografía**<a name=\"id7\"></a>\n",
    "Bibliografía"
   ]
  },
  {
   "cell_type": "code",
   "execution_count": null,
   "metadata": {},
   "outputs": [],
   "source": []
  }
 ],
 "metadata": {
  "colab": {
   "collapsed_sections": [],
   "name": "Taller 3.ipynb",
   "provenance": []
  },
  "kernelspec": {
   "display_name": "venvpd",
   "language": "python",
   "name": "venvpd"
  },
  "language_info": {
   "codemirror_mode": {
    "name": "ipython",
    "version": 3
   },
   "file_extension": ".py",
   "mimetype": "text/x-python",
   "name": "python",
   "nbconvert_exporter": "python",
   "pygments_lexer": "ipython3",
   "version": "3.7.5"
  }
 },
 "nbformat": 4,
 "nbformat_minor": 1
}
